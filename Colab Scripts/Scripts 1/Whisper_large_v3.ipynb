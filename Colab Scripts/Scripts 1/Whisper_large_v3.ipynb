{
  "cells": [
    {
      "cell_type": "markdown",
      "metadata": {
        "colab_type": "text",
        "id": "view-in-github"
      },
      "source": [
        "<a href=\"https://colab.research.google.com/github/koji/llm_on_GoogleColab/blob/main/Whisper_large_v3.ipynb\" target=\"_parent\"><img src=\"https://colab.research.google.com/assets/colab-badge.svg\" alt=\"Open In Colab\"/></a>"
      ]
    },
    {
      "cell_type": "markdown",
      "metadata": {
        "id": "rnhhqqZAM4wO"
      },
      "source": [
        "Whisper AI From OpenAI \n",
        "https://github.com/openai/whisper"
      ]
    },
    {
      "cell_type": "code",
      "execution_count": null,
      "metadata": {
        "colab": {
          "base_uri": "https://localhost:8080/"
        },
        "id": "TtHK2NTSM6_8",
        "outputId": "2d52908a-10d5-4047-a76d-90aa4b3e31df"
      },
      "outputs": [],
      "source": [
        "!pip install -U openai-whisper"
      ]
    },
    {
      "cell_type": "code",
      "execution_count": null,
      "metadata": {
        "colab": {
          "base_uri": "https://localhost:8080/"
        },
        "id": "KSDotJV-NESV",
        "outputId": "d64eb2a4-f104-4ad9-8e43-6ab75986f6a0"
      },
      "outputs": [],
      "source": [
        "!pip install yt-dlp"
      ]
    },
    {
      "cell_type": "code",
      "execution_count": null,
      "metadata": {
        "colab": {
          "base_uri": "https://localhost:8080/"
        },
        "id": "7W30YpXSNEX8",
        "outputId": "88f0a448-e637-431d-ee22-b40b46e6f08d"
      },
      "outputs": [],
      "source": [
        "!yt-dlp -x --audio-format mp3 https://www.youtube.com/watch?v=Rbl7qmTH6b8 -o test.mp3"
      ]
    },
    {
      "cell_type": "code",
      "execution_count": null,
      "metadata": {
        "colab": {
          "base_uri": "https://localhost:8080/"
        },
        "id": "4HXQ9jluNEag",
        "outputId": "cc953fac-f2bf-4114-ee54-f1fd1e147214"
      },
      "outputs": [],
      "source": [
        "import whisper\n",
        "\n",
        "model_size = \"large-v3\"\n",
        "\n",
        "model = whisper.load_model(model_size)\n",
        "result = model.transcribe(\"test.mp3\")\n",
        "print(result[\"text\"])"
      ]
    },
    {
      "cell_type": "code",
      "execution_count": null,
      "metadata": {
        "colab": {
          "base_uri": "https://localhost:8080/"
        },
        "id": "CcFZkgkSNEc1",
        "outputId": "24392e75-117a-4a66-f00e-3041d370704b"
      },
      "outputs": [],
      "source": [
        "segments = result[\"segments\"]\n",
        "\n",
        "for segment in segments:\n",
        "    print(\"[%.2fs -> %.2fs] %s\" % (segment['start'], segment['end'], segment['text']))"
      ]
    }
  ],
  "metadata": {
    "accelerator": "GPU",
    "colab": {
      "authorship_tag": "ABX9TyOQDATNSSN9UltKwNijTXxW",
      "gpuType": "T4",
      "include_colab_link": true,
      "provenance": []
    },
    "kernelspec": {
      "display_name": "Python 3",
      "name": "python3"
    },
    "language_info": {
      "name": "python"
    }
  },
  "nbformat": 4,
  "nbformat_minor": 0
}
