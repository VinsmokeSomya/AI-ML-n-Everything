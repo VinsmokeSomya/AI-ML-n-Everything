{
  "cells": [
    {
      "cell_type": "markdown",
      "metadata": {
        "colab_type": "text",
        "id": "view-in-github"
      },
      "source": [
        "<a href=\"https://colab.research.google.com/github/koji/GoogleColab/blob/main/SDXL_Lightning.ipynb\" target=\"_parent\"><img src=\"https://colab.research.google.com/assets/colab-badge.svg\" alt=\"Open In Colab\"/></a>"
      ]
    },
    {
      "cell_type": "code",
      "execution_count": null,
      "metadata": {
        "colab": {
          "base_uri": "https://localhost:8080/"
        },
        "id": "QT-88tG4m4tF",
        "outputId": "a9cf5a6f-7a53-4b97-9a95-75e4234bd54e"
      },
      "outputs": [],
      "source": [
        "!git clone https://huggingface.co/spaces/AP123/SDXL-Lightning"
      ]
    },
    {
      "cell_type": "code",
      "execution_count": null,
      "metadata": {
        "colab": {
          "base_uri": "https://localhost:8080/"
        },
        "id": "auB8ueQnnCwZ",
        "outputId": "0e579638-3fa8-4652-a296-d1f6250d5486"
      },
      "outputs": [],
      "source": [
        "!pip install transformers diffusers accelerate gradio"
      ]
    },
    {
      "cell_type": "code",
      "execution_count": null,
      "metadata": {
        "colab": {
          "base_uri": "https://localhost:8080/"
        },
        "id": "hd1S0u0MnhfF",
        "outputId": "39015800-3ef1-4cae-aca7-d01f5057c17c"
      },
      "outputs": [],
      "source": [
        "!ls"
      ]
    },
    {
      "cell_type": "code",
      "execution_count": null,
      "metadata": {
        "colab": {
          "base_uri": "https://localhost:8080/"
        },
        "id": "59tcdO_dnoPh",
        "outputId": "8d19f561-9200-4828-8649-681675dd9d2d"
      },
      "outputs": [],
      "source": [
        "cd SDXL-Lightning"
      ]
    },
    {
      "cell_type": "code",
      "execution_count": null,
      "metadata": {
        "colab": {
          "base_uri": "https://localhost:8080/"
        },
        "id": "QZWNF3FTnrOj",
        "outputId": "b2150987-52b2-4234-de2e-61be83c38388"
      },
      "outputs": [],
      "source": [
        "!ls"
      ]
    },
    {
      "cell_type": "code",
      "execution_count": null,
      "metadata": {
        "colab": {
          "base_uri": "https://localhost:8080/"
        },
        "id": "8GG2TWaWpqji",
        "outputId": "b6db9b20-9d29-41d5-ccbf-e11195d3f768"
      },
      "outputs": [],
      "source": [
        "!pip install spaces"
      ]
    },
    {
      "cell_type": "code",
      "execution_count": null,
      "metadata": {
        "colab": {
          "base_uri": "https://localhost:8080/"
        },
        "id": "t2EpUbNenyZz",
        "outputId": "c9a30f8e-9d99-48da-d6d3-aa5b25c10d1f"
      },
      "outputs": [],
      "source": [
        "!python app.py"
      ]
    }
  ],
  "metadata": {
    "accelerator": "GPU",
    "colab": {
      "authorship_tag": "ABX9TyNHIltc4vskhmEcofFLLus0",
      "gpuType": "T4",
      "include_colab_link": true,
      "provenance": []
    },
    "kernelspec": {
      "display_name": "Python 3",
      "name": "python3"
    },
    "language_info": {
      "name": "python"
    }
  },
  "nbformat": 4,
  "nbformat_minor": 0
}
