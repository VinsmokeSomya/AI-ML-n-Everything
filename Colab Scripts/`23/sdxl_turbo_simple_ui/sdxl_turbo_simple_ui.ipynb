{
  "cells": [
    {
      "cell_type": "markdown",
      "metadata": {
        "colab_type": "text",
        "id": "view-in-github"
      },
      "source": [
        "<a href=\"https://colab.research.google.com/github/koji/GoogleColab/blob/main/sdxl_turbo_simple_ui.ipynb\" target=\"_parent\"><img src=\"https://colab.research.google.com/assets/colab-badge.svg\" alt=\"Open In Colab\"/></a>"
      ]
    },
    {
      "cell_type": "markdown",
      "metadata": {
        "id": "xroCB_EKyrRj"
      },
      "source": [
        "# simple-ui for SDXL Turbo\n",
        "\n",
        "https://huggingface.co/docs/diffusers/v0.24.0/en/api/pipelines/diffedit#tips\n",
        "\n",
        "## How to Use\n",
        "1. Change Runtime to T4\n",
        "2. Run the following blocks\n",
        "3. Access to the gradio ui"
      ]
    },
    {
      "cell_type": "code",
      "execution_count": null,
      "metadata": {
        "colab": {
          "base_uri": "https://localhost:8080/"
        },
        "id": "UD3K80gWrhJb",
        "outputId": "3bda3365-ba5b-48aa-f3ce-106d30c5a20f"
      },
      "outputs": [],
      "source": [
        "!pip install gradio diffusers accelerate"
      ]
    },
    {
      "cell_type": "code",
      "execution_count": null,
      "metadata": {
        "colab": {
          "base_uri": "https://localhost:8080/"
        },
        "id": "f6AtEgvPyn4-",
        "outputId": "7853e703-09a1-4d3b-d295-58e619e3cb7b"
      },
      "outputs": [],
      "source": [
        "!python app.py"
      ]
    },
    {
      "cell_type": "markdown",
      "metadata": {
        "id": "b30vIp7ZynWM"
      },
      "source": []
    }
  ],
  "metadata": {
    "accelerator": "GPU",
    "colab": {
      "authorship_tag": "ABX9TyOYbvTLUuzUABABUWIn0C0f",
      "gpuType": "T4",
      "include_colab_link": true,
      "provenance": []
    },
    "kernelspec": {
      "display_name": "Python 3",
      "name": "python3"
    },
    "language_info": {
      "name": "python"
    }
  },
  "nbformat": 4,
  "nbformat_minor": 0
}
