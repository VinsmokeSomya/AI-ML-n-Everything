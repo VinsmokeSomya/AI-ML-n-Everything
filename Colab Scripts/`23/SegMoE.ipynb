{
  "cells": [
    {
      "cell_type": "markdown",
      "metadata": {
        "colab_type": "text",
        "id": "view-in-github"
      },
      "source": [
        "<a href=\"https://colab.research.google.com/github/koji/GoogleColab/blob/main/SegMoE.ipynb\" target=\"_parent\"><img src=\"https://colab.research.google.com/assets/colab-badge.svg\" alt=\"Open In Colab\"/></a>"
      ]
    },
    {
      "cell_type": "code",
      "execution_count": null,
      "metadata": {
        "colab": {
          "base_uri": "https://localhost:8080/"
        },
        "id": "NXfRfi5oY_CX",
        "outputId": "5e22613b-9d37-4b2c-973e-5238c071759f"
      },
      "outputs": [],
      "source": [
        "!pip install -U segmoe diffusers transformers"
      ]
    },
    {
      "cell_type": "code",
      "execution_count": null,
      "metadata": {
        "colab": {
          "base_uri": "https://localhost:8080/"
        },
        "id": "iIPLGfhaZAgE",
        "outputId": "567afdb5-492d-4bca-abc1-569a3d74608f"
      },
      "outputs": [],
      "source": [
        "from segmoe import SegMoEPipeline\n",
        "\n",
        "pipeline = SegMoEPipeline(\"segmind/SegMoE-4x2-v0\", device = \"cuda\")\n",
        "\n",
        "prompt = \"cosmic canvas, orange city background, painting of a chubby cat\"\n",
        "negative_prompt = \"nsfw, bad quality, worse quality\"\n",
        "img = pipeline(\n",
        "    prompt=prompt,\n",
        "    negative_prompt=negative_prompt,\n",
        "    height=1024,\n",
        "    width=1024,\n",
        "    num_inference_steps=25,\n",
        "    guidance_scale=7.5,\n",
        ").images[0]\n",
        "img.save(\"image.png\")"
      ]
    }
  ],
  "metadata": {
    "accelerator": "GPU",
    "colab": {
      "authorship_tag": "ABX9TyMeO7It+rQS7/5bo7erh4w6",
      "gpuType": "T4",
      "include_colab_link": true,
      "provenance": []
    },
    "kernelspec": {
      "display_name": "Python 3",
      "name": "python3"
    },
    "language_info": {
      "name": "python"
    }
  },
  "nbformat": 4,
  "nbformat_minor": 0
}
