{
  "cells": [
    {
      "cell_type": "markdown",
      "metadata": {
        "colab_type": "text",
        "id": "view-in-github"
      },
      "source": [
        "<a href=\"https://colab.research.google.com/github/koji/llm_on_GoogleColab/blob/main/Qwen-Audio_test.ipynb\" target=\"_parent\"><img src=\"https://colab.research.google.com/assets/colab-badge.svg\" alt=\"Open In Colab\"/></a>"
      ]
    },
    {
      "cell_type": "markdown",
      "metadata": {
        "id": "3nT7AAew6ImA"
      },
      "source": [
        "# Qwen-Audio\n",
        "\n",
        "https://github.com/QwenLM/Qwen-Audio\n"
      ]
    },
    {
      "cell_type": "code",
      "execution_count": null,
      "metadata": {
        "colab": {
          "base_uri": "https://localhost:8080/"
        },
        "id": "A3FX0OC_6kOS",
        "outputId": "56245fab-7b57-4387-c049-8acdcd3e006a"
      },
      "outputs": [],
      "source": [
        "!pip install tiktoken transformers einops"
      ]
    },
    {
      "cell_type": "code",
      "execution_count": null,
      "metadata": {
        "colab": {
          "base_uri": "https://localhost:8080/"
        },
        "id": "1rMjcnuU6Esb",
        "outputId": "e7b64a4c-4fb1-4554-e00a-dfec4dcebd44"
      },
      "outputs": [],
      "source": [
        "# download mp3\n",
        "!wget https://github.com/QwenLM/Qwen-Audio/raw/main/assets/audio/glass-breaking-151256.mp3"
      ]
    },
    {
      "cell_type": "code",
      "execution_count": null,
      "metadata": {
        "colab": {
          "base_uri": "https://localhost:8080/",
          "height": 546
        },
        "id": "W19Q88e06OTR",
        "outputId": "aee22f75-7b64-4c89-cc03-58a815fe9d69"
      },
      "outputs": [],
      "source": [
        "from transformers import AutoModelForCausalLM, AutoTokenizer\n",
        "from transformers.generation import GenerationConfig\n",
        "import torch\n",
        "torch.manual_seed(1234)\n",
        "tokenizer = AutoTokenizer.from_pretrained(\"Qwen/Qwen-Audio-Chat\", trust_remote_code=True)\n",
        "# use cpu only\n",
        "model = AutoModelForCausalLM.from_pretrained(\"Qwen/Qwen-Audio-Chat\", device_map=\"cpu\", trust_remote_code=True).eval()\n",
        "query = tokenizer.from_list_format([\n",
        "    {'audio': 'assets/audio/glass-breaking-151256.mp3'},\n",
        "    {'text': 'what kind of sound is this?'},\n",
        "])\n",
        "response, history = model.chat(tokenizer, query=query, history=None)\n",
        "print(response)"
      ]
    }
  ],
  "metadata": {
    "colab": {
      "authorship_tag": "ABX9TyORKM7zYXasj4L4eZpRUCd2",
      "include_colab_link": true,
      "provenance": []
    },
    "kernelspec": {
      "display_name": "Python 3",
      "name": "python3"
    },
    "language_info": {
      "name": "python"
    }
  },
  "nbformat": 4,
  "nbformat_minor": 0
}
