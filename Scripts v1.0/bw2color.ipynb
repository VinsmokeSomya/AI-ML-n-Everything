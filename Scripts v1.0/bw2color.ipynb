{
  "cells": [
    {
      "cell_type": "markdown",
      "metadata": {
        "colab_type": "text",
        "id": "view-in-github"
      },
      "source": [
        "<a href=\"https://colab.research.google.com/github/koji/GoogleColab/blob/main/bw2color.ipynb\" target=\"_parent\"><img src=\"https://colab.research.google.com/assets/colab-badge.svg\" alt=\"Open In Colab\"/></a>"
      ]
    },
    {
      "cell_type": "code",
      "execution_count": null,
      "metadata": {
        "colab": {
          "base_uri": "https://localhost:8080/"
        },
        "id": "7e2UiUKCxkEt",
        "outputId": "96a365b7-077e-46ba-b7d9-18414032ae41"
      },
      "outputs": [],
      "source": [
        "!git clone https://github.com/piddnad/DDColor"
      ]
    },
    {
      "cell_type": "code",
      "execution_count": null,
      "metadata": {
        "colab": {
          "base_uri": "https://localhost:8080/"
        },
        "id": "fAF2cA_pxwZN",
        "outputId": "09ff5431-60f6-4888-af72-e7c9e56edcea"
      },
      "outputs": [],
      "source": [
        "%cd DDColor/"
      ]
    },
    {
      "cell_type": "code",
      "execution_count": null,
      "metadata": {
        "colab": {
          "base_uri": "https://localhost:8080/"
        },
        "id": "ANIZQY0Gx2As",
        "outputId": "f5a6ab0d-694e-4383-b1c7-df64f810b420"
      },
      "outputs": [],
      "source": [
        "!pwd"
      ]
    },
    {
      "cell_type": "code",
      "execution_count": null,
      "metadata": {
        "colab": {
          "base_uri": "https://localhost:8080/"
        },
        "id": "NKGtHd3Zx34x",
        "outputId": "e6fba661-1ad0-45ac-9981-3edc6f78a6a3"
      },
      "outputs": [],
      "source": [
        "!ls"
      ]
    },
    {
      "cell_type": "code",
      "execution_count": null,
      "metadata": {
        "colab": {
          "base_uri": "https://localhost:8080/"
        },
        "id": "GonUFBvox59s",
        "outputId": "18a600eb-c626-4b74-bd47-ed79698de483"
      },
      "outputs": [],
      "source": [
        "!pip install -r requirements.txt"
      ]
    },
    {
      "cell_type": "code",
      "execution_count": null,
      "metadata": {
        "colab": {
          "base_uri": "https://localhost:8080/"
        },
        "id": "TnXLJOX8x9l7",
        "outputId": "7b3af52c-45e0-47e7-d785-5e4560a5990a"
      },
      "outputs": [],
      "source": [
        "!python setup.py develop"
      ]
    },
    {
      "cell_type": "code",
      "execution_count": null,
      "metadata": {
        "colab": {
          "base_uri": "https://localhost:8080/",
          "height": 1000
        },
        "id": "pNahb684yF_H",
        "outputId": "60ac7e93-f37f-4e55-ee68-b20a720cd5ab"
      },
      "outputs": [],
      "source": [
        "!pip install \"modelscope[cv]\" -f https://modelscope.oss-cn-beijing.aliyuncs.com/releases/repo.html"
      ]
    },
    {
      "cell_type": "code",
      "execution_count": null,
      "metadata": {
        "colab": {
          "base_uri": "https://localhost:8080/"
        },
        "id": "AUwO5K1z2Vvg",
        "outputId": "cc5315fe-055f-4143-a09c-69ed52a83bec"
      },
      "outputs": [],
      "source": [
        "import cv2\n",
        "from modelscope.outputs import OutputKeys\n",
        "from modelscope.pipelines import pipeline\n",
        "from modelscope.utils.constant import Tasks\n",
        "\n",
        "img_colorization = pipeline(Tasks.image_colorization, model='damo/cv_ddcolor_image-colorization')\n",
        "result = img_colorization('https://budojapan.com/wp/wp-content/uploads/2018/11/th_c26-136.jpg')\n",
        "cv2.imwrite('result.png', result[OutputKeys.OUTPUT_IMG])"
      ]
    },
    {
      "cell_type": "code",
      "execution_count": null,
      "metadata": {
        "colab": {
          "base_uri": "https://localhost:8080/",
          "height": 1000
        },
        "id": "Ze-yfgRP3RfG",
        "outputId": "7dc19ed9-7ddf-4d65-9646-3ae52693d142"
      },
      "outputs": [],
      "source": [
        "from google.colab.patches import cv2_imshow\n",
        "cv2_imshow(result[OutputKeys.OUTPUT_IMG])"
      ]
    }
  ],
  "metadata": {
    "accelerator": "GPU",
    "colab": {
      "authorship_tag": "ABX9TyPmKH9+fqkbn6sWV3eGZBT1",
      "include_colab_link": true,
      "provenance": []
    },
    "kernelspec": {
      "display_name": "Python 3",
      "name": "python3"
    },
    "language_info": {
      "name": "python"
    }
  },
  "nbformat": 4,
  "nbformat_minor": 0
}
