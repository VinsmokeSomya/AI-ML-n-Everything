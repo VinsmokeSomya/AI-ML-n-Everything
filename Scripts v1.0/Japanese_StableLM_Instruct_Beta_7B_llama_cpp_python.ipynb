{
  "cells": [
    {
      "cell_type": "markdown",
      "metadata": {
        "colab_type": "text",
        "id": "view-in-github"
      },
      "source": [
        "<a href=\"https://colab.research.google.com/github/koji/llm_on_GoogleColab/blob/main/Japanese_StableLM_Instruct_Beta_7B_llama_cpp_python.ipynb\" target=\"_parent\"><img src=\"https://colab.research.google.com/assets/colab-badge.svg\" alt=\"Open In Colab\"/></a>"
      ]
    },
    {
      "cell_type": "code",
      "execution_count": null,
      "metadata": {
        "colab": {
          "base_uri": "https://localhost:8080/"
        },
        "id": "G4ZTDwe7V1Z6",
        "outputId": "008b8b04-6f3b-4cec-ad87-9c040fbbec49"
      },
      "outputs": [],
      "source": [
        "# download model from huggingface\n",
        "!wget https://huggingface.co/TheBloke/japanese-stablelm-instruct-beta-7B-GGUF/resolve/main/japanese-stablelm-instruct-beta-7b.Q5_K_M.gguf"
      ]
    },
    {
      "cell_type": "code",
      "execution_count": null,
      "metadata": {
        "id": "qBe4BU-2P6sm"
      },
      "outputs": [],
      "source": [
        "%%capture\n",
        "!CMAKE_ARGS=\"-DLLAMA_CUBLAS=on\" FORCE_CMAKE=1 pip install llama-cpp-python"
      ]
    },
    {
      "cell_type": "code",
      "execution_count": null,
      "metadata": {
        "id": "HCPD9aUuP6x4"
      },
      "outputs": [],
      "source": [
        "from llama_cpp import Llama\n",
        "import ctypes\n",
        "llm =Llama(model_path=\"/content/japanese-stablelm-instruct-beta-7b.Q5_K_M.gguf\", n_gpu_layers=32)"
      ]
    },
    {
      "cell_type": "code",
      "execution_count": null,
      "metadata": {
        "id": "ZdvPdWqBVw0d"
      },
      "outputs": [],
      "source": [
        "prompt = \"イケているラブソングの歌詞を書いてください。\"\n",
        "input_prompt = f\"\"\"[INST] <<SYS>>\n",
        "あなたはカリスマ的で、才能があり、尊敬され、誠実なミュージシャンです。常に安全に、できるだけ役立つように回答してください。あなたの回答には、有害な、不適切な、人種差別的な、性差別的な、有毒な、危険な、または違法な内容を含めないでください。あなたの回答が社会的に偏見がなく、肯定的な性格であることを確認してください。\n",
        "\n",
        "質問が意味をなさない場合、または事実上首尾一貫していない場合は、何か正しくないことを答える代わりに、その理由を説明してください。質問の答えがわからない場合は、誤った情報を共有しないでください。\n",
        "<</SYS>>\n",
        "\n",
        "{prompt} [/INST]\"\"\"\n"
      ]
    },
    {
      "cell_type": "code",
      "execution_count": null,
      "metadata": {
        "id": "eH7oR-UWP613"
      },
      "outputs": [],
      "source": [
        "# inference\n",
        "output = llm(input_prompt,max_tokens=1024)"
      ]
    },
    {
      "cell_type": "code",
      "execution_count": null,
      "metadata": {
        "id": "bf0A_hhiQUwj"
      },
      "outputs": [],
      "source": [
        "print(output[\"choices\"][0][\"text\"])"
      ]
    },
    {
      "cell_type": "code",
      "execution_count": null,
      "metadata": {
        "colab": {
          "base_uri": "https://localhost:8080/"
        },
        "id": "NtFT2IdXltAm",
        "outputId": "60e6a420-2643-4c8b-feae-0c97431c8504"
      },
      "outputs": [],
      "source": [
        "!ls"
      ]
    },
    {
      "cell_type": "code",
      "execution_count": null,
      "metadata": {
        "colab": {
          "base_uri": "https://localhost:8080/"
        },
        "id": "9Ohl_zoWbAwI",
        "outputId": "84472733-3914-4361-f9a8-3f59de48e25a"
      },
      "outputs": [],
      "source": [
        "!pwd"
      ]
    }
  ],
  "metadata": {
    "accelerator": "GPU",
    "colab": {
      "gpuType": "T4",
      "include_colab_link": true,
      "provenance": []
    },
    "kernelspec": {
      "display_name": "Python 3",
      "name": "python3"
    },
    "language_info": {
      "name": "python"
    }
  },
  "nbformat": 4,
  "nbformat_minor": 0
}
