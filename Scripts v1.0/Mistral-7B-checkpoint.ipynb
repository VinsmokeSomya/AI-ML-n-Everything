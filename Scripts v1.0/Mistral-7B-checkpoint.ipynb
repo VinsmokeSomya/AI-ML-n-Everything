{
 "cells": [
  {
   "cell_type": "code",
   "execution_count": null,
   "id": "7357c8b3-7eba-451c-8bb1-042865247df1",
   "metadata": {},
   "outputs": [],
   "source": [
    "# download model from huggingface\n",
    "!wget https://huggingface.co/TheBloke/OpenHermes-2-Mistral-7B-GGUF/resolve/main/openhermes-2-mistral-7b.Q5_K_M.gguf"
   ]
  },
  {
   "cell_type": "code",
   "execution_count": null,
   "id": "2a0c9600-8f43-435c-845b-358201cbe4ee",
   "metadata": {},
   "outputs": [],
   "source": [
    "%%capture\n",
    "!CMAKE_ARGS=\"-DLLAMA_CUBLAS=on\" FORCE_CMAKE=1 pip install llama-cpp-python"
   ]
  },
  {
   "cell_type": "code",
   "execution_count": null,
   "id": "ef696eae-9867-4fe8-b030-11eff3f23e4b",
   "metadata": {},
   "outputs": [],
   "source": [
    "# https://huggingface.co/TheBloke/OpenHermes-2-Mistral-7B-GGUF#example-llamacpp-command\n",
    "from llama_cpp import Llama\n",
    "import ctypes\n",
    "llm =Llama(model_path=\"/content/openhermes-2-mistral-7b.Q5_K_M.gguf\", n_gpu_layers=32)"
   ]
  },
  {
   "cell_type": "code",
   "execution_count": null,
   "id": "1315c16c-ec98-4b52-86b0-1cfc52167041",
   "metadata": {},
   "outputs": [],
   "source": [
    "prompt = \"Generate lyrics for a romantic love song\"\n",
    "input_prompt = f\"\"\"[INST] <<SYS>>\n",
    "You are a charismatics, talented, respectful and honest musician. Always answer as helpfully as possible, while being safe.  Your answers should not include any harmful, unethical, racist, sexist, toxic, dangerous, or illegal content. Please ensure that your responses are socially unbiased and positive in nature.\n",
    "\n",
    "If a question does not make any sense, or is not factually coherent, explain why instead of answering something not correct. If you don't know the answer to a question, please don't share false information.\n",
    "<</SYS>>\n",
    "\n",
    "{prompt} [/INST]\"\"\""
   ]
  },
  {
   "cell_type": "code",
   "execution_count": null,
   "id": "c3b0dd20-5cd2-4189-8711-45538b7b1fa0",
   "metadata": {},
   "outputs": [],
   "source": [
    "# inference\n",
    "output = llm(input_prompt,max_tokens=1024)"
   ]
  },
  {
   "cell_type": "code",
   "execution_count": null,
   "id": "edd1d5a8-e576-4d06-83be-6ec5301bd457",
   "metadata": {},
   "outputs": [],
   "source": [
    "print(output[\"choices\"][0][\"text\"])"
   ]
  }
 ],
 "metadata": {
  "kernelspec": {
   "display_name": "Python 3 (ipykernel)",
   "language": "python",
   "name": "python3"
  },
  "language_info": {
   "codemirror_mode": {
    "name": "ipython",
    "version": 3
   },
   "file_extension": ".py",
   "mimetype": "text/x-python",
   "name": "python",
   "nbconvert_exporter": "python",
   "pygments_lexer": "ipython3",
   "version": "3.9.16"
  }
 },
 "nbformat": 4,
 "nbformat_minor": 5
}
