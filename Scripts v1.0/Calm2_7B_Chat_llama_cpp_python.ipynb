{
  "cells": [
    {
      "cell_type": "markdown",
      "metadata": {
        "colab_type": "text",
        "id": "view-in-github"
      },
      "source": [
        "<a href=\"https://colab.research.google.com/github/koji/llm_on_GoogleColab/blob/main/Calm2_7B_Chat_llama_cpp_python.ipynb\" target=\"_parent\"><img src=\"https://colab.research.google.com/assets/colab-badge.svg\" alt=\"Open In Colab\"/></a>"
      ]
    },
    {
      "cell_type": "code",
      "execution_count": null,
      "metadata": {
        "colab": {
          "base_uri": "https://localhost:8080/"
        },
        "id": "G4ZTDwe7V1Z6",
        "outputId": "f0fbf149-9b36-440d-c686-49057391de59"
      },
      "outputs": [],
      "source": [
        "# download model from huggingface\n",
        "!wget https://huggingface.co/TheBloke/calm2-7B-chat-GGUF/resolve/main/calm2-7b-chat.Q5_K_M.gguf"
      ]
    },
    {
      "cell_type": "code",
      "execution_count": null,
      "metadata": {
        "id": "qBe4BU-2P6sm"
      },
      "outputs": [],
      "source": [
        "%%capture\n",
        "!CMAKE_ARGS=\"-DLLAMA_CUBLAS=on\" FORCE_CMAKE=1 pip install llama-cpp-python"
      ]
    },
    {
      "cell_type": "code",
      "execution_count": null,
      "metadata": {
        "colab": {
          "base_uri": "https://localhost:8080/"
        },
        "id": "HCPD9aUuP6x4",
        "outputId": "c6187a7d-ef3e-4970-af55-7603e592465f"
      },
      "outputs": [],
      "source": [
        "from llama_cpp import Llama\n",
        "import ctypes\n",
        "llm =Llama(model_path=\"/content/calm2-7b-chat.Q5_K_M.gguf\", n_gpu_layers=32)"
      ]
    },
    {
      "cell_type": "code",
      "execution_count": null,
      "metadata": {
        "id": "ZdvPdWqBVw0d"
      },
      "outputs": [],
      "source": [
        "prompt = \"株式会社サイバーエージェントについて教えてください。\""
      ]
    },
    {
      "cell_type": "code",
      "execution_count": null,
      "metadata": {
        "colab": {
          "base_uri": "https://localhost:8080/"
        },
        "id": "eH7oR-UWP613",
        "outputId": "9d5dac54-465d-4293-e471-68c378df0562"
      },
      "outputs": [],
      "source": [
        "# inference\n",
        "output = llm(prompt,max_tokens=4096)"
      ]
    },
    {
      "cell_type": "code",
      "execution_count": null,
      "metadata": {
        "colab": {
          "base_uri": "https://localhost:8080/"
        },
        "id": "bf0A_hhiQUwj",
        "outputId": "1e3535a8-1111-4d6b-e2c0-3b6d64e93851"
      },
      "outputs": [],
      "source": [
        "print(output[\"choices\"][0][\"text\"])"
      ]
    }
  ],
  "metadata": {
    "accelerator": "GPU",
    "colab": {
      "gpuType": "T4",
      "include_colab_link": true,
      "provenance": []
    },
    "kernelspec": {
      "display_name": "Python 3",
      "name": "python3"
    },
    "language_info": {
      "name": "python"
    }
  },
  "nbformat": 4,
  "nbformat_minor": 0
}
